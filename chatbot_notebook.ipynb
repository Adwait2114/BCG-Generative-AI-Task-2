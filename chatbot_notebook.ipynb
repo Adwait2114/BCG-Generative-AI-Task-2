{
 "cells": [
  {
   "cell_type": "code",
   "execution_count": 1,
   "id": "ec8904ec",
   "metadata": {},
   "outputs": [],
   "source": [
    "import pandas as pd"
   ]
  },
  {
   "cell_type": "code",
   "execution_count": 3,
   "id": "682ea2d9",
   "metadata": {},
   "outputs": [
    {
     "data": {
      "text/html": [
       "<div>\n",
       "<style scoped>\n",
       "    .dataframe tbody tr th:only-of-type {\n",
       "        vertical-align: middle;\n",
       "    }\n",
       "\n",
       "    .dataframe tbody tr th {\n",
       "        vertical-align: top;\n",
       "    }\n",
       "\n",
       "    .dataframe thead th {\n",
       "        text-align: right;\n",
       "    }\n",
       "</style>\n",
       "<table border=\"1\" class=\"dataframe\">\n",
       "  <thead>\n",
       "    <tr style=\"text-align: right;\">\n",
       "      <th></th>\n",
       "      <th>Unnamed: 0</th>\n",
       "      <th>Company</th>\n",
       "      <th>Fiscal Year</th>\n",
       "      <th>Total Revenue</th>\n",
       "      <th>Net Income</th>\n",
       "      <th>Total Assets</th>\n",
       "      <th>Total Liabilities</th>\n",
       "      <th>Operating Cash Flow</th>\n",
       "    </tr>\n",
       "  </thead>\n",
       "  <tbody>\n",
       "    <tr>\n",
       "      <th>0</th>\n",
       "      <td>0</td>\n",
       "      <td>Microsoft</td>\n",
       "      <td>2022</td>\n",
       "      <td>198.3</td>\n",
       "      <td>72.70</td>\n",
       "      <td>364.80</td>\n",
       "      <td>191.80</td>\n",
       "      <td>89.035</td>\n",
       "    </tr>\n",
       "    <tr>\n",
       "      <th>1</th>\n",
       "      <td>1</td>\n",
       "      <td>Microsoft</td>\n",
       "      <td>2023</td>\n",
       "      <td>211.9</td>\n",
       "      <td>72.36</td>\n",
       "      <td>411.60</td>\n",
       "      <td>198.30</td>\n",
       "      <td>87.582</td>\n",
       "    </tr>\n",
       "    <tr>\n",
       "      <th>2</th>\n",
       "      <td>2</td>\n",
       "      <td>Microsoft</td>\n",
       "      <td>2024</td>\n",
       "      <td>245.1</td>\n",
       "      <td>88.14</td>\n",
       "      <td>512.16</td>\n",
       "      <td>243.69</td>\n",
       "      <td>118.548</td>\n",
       "    </tr>\n",
       "    <tr>\n",
       "      <th>3</th>\n",
       "      <td>3</td>\n",
       "      <td>Apple</td>\n",
       "      <td>2022</td>\n",
       "      <td>394.0</td>\n",
       "      <td>99.80</td>\n",
       "      <td>352.80</td>\n",
       "      <td>302.10</td>\n",
       "      <td>122.151</td>\n",
       "    </tr>\n",
       "    <tr>\n",
       "      <th>4</th>\n",
       "      <td>4</td>\n",
       "      <td>Apple</td>\n",
       "      <td>2023</td>\n",
       "      <td>383.0</td>\n",
       "      <td>96.90</td>\n",
       "      <td>352.60</td>\n",
       "      <td>290.60</td>\n",
       "      <td>110.543</td>\n",
       "    </tr>\n",
       "  </tbody>\n",
       "</table>\n",
       "</div>"
      ],
      "text/plain": [
       "   Unnamed: 0    Company  Fiscal Year  Total Revenue  Net Income  \\\n",
       "0           0  Microsoft         2022          198.3       72.70   \n",
       "1           1  Microsoft         2023          211.9       72.36   \n",
       "2           2  Microsoft         2024          245.1       88.14   \n",
       "3           3      Apple         2022          394.0       99.80   \n",
       "4           4      Apple         2023          383.0       96.90   \n",
       "\n",
       "   Total Assets  Total Liabilities  Operating Cash Flow  \n",
       "0        364.80             191.80               89.035  \n",
       "1        411.60             198.30               87.582  \n",
       "2        512.16             243.69              118.548  \n",
       "3        352.80             302.10              122.151  \n",
       "4        352.60             290.60              110.543  "
      ]
     },
     "execution_count": 3,
     "metadata": {},
     "output_type": "execute_result"
    }
   ],
   "source": [
    "# Load the financial data\n",
    "df = pd.read_csv(r'C:\\Users\\dadwa\\OneDrive\\Documents\\financial_data.csv')\n",
    "df.head()"
   ]
  },
  {
   "cell_type": "code",
   "execution_count": 5,
   "id": "ca3bf573",
   "metadata": {},
   "outputs": [],
   "source": [
    "def ask_chatbot():\n",
    "    print(\"Welcome to the Financial Inquiry Chatbot!\")\n",
    "    print(\"You can ask questions like:\")\n",
    "    print(\"- What was the revenue of Microsoft in 2022?\")\n",
    "    print(\"- What is the net income of Apple in 2023?\")\n",
    "    print(\"Type 'exit' to quit.\\n\")\n",
    "\n",
    "    while True:\n",
    "        user_input = input(\"You: \").lower()\n",
    "        if user_input == 'exit':\n",
    "            print(\"Goodbye!\")\n",
    "            break\n",
    "\n",
    "        for _, row in df.iterrows():\n",
    "            company = row['Company'].lower()\n",
    "            year = str(row['Fiscal Year'])\n",
    "            if company in user_input and year in user_input:\n",
    "                if \"revenue\" in user_input:\n",
    "                    print(f\"Bot: Total Revenue for {row['Company']} in {year} was {row['Total Revenue']} billion USD.\")\n",
    "                elif \"net income\" in user_input:\n",
    "                    print(f\"Bot: Net Income for {row['Company']} in {year} was {row['Net Income']} billion USD.\")\n",
    "                elif \"assets\" in user_input:\n",
    "                    print(f\"Bot: Total Assets for {row['Company']} in {year} were {row['Total Assets']} billion USD.\")\n",
    "                elif \"liabilities\" in user_input:\n",
    "                    print(f\"Bot: Total Liabilities for {row['Company']} in {year} were {row['Total Liabilities']} billion USD.\")\n",
    "                elif \"cash flow\" in user_input:\n",
    "                    print(f\"Bot: Operating Cash Flow for {row['Company']} in {year} was {row['Operating Cash Flow']} billion USD.\")\n",
    "                break\n",
    "        else:\n",
    "            print(\"Bot: Sorry, I couldn't find an answer to that. Try asking in a different way.\")"
   ]
  },
  {
   "cell_type": "code",
   "execution_count": null,
   "id": "ac05ed31",
   "metadata": {},
   "outputs": [
    {
     "name": "stdout",
     "output_type": "stream",
     "text": [
      "Welcome to the Financial Inquiry Chatbot!\n",
      "You can ask questions like:\n",
      "- What was the revenue of Microsoft in 2022?\n",
      "- What is the net income of Apple in 2023?\n",
      "Type 'exit' to quit.\n",
      "\n"
     ]
    },
    {
     "name": "stdin",
     "output_type": "stream",
     "text": [
      "You:  What was the revenue of Tesla in 2023?\n"
     ]
    },
    {
     "name": "stdout",
     "output_type": "stream",
     "text": [
      "Bot: Total Revenue for Tesla in 2023 was 96.77 billion USD.\n"
     ]
    },
    {
     "name": "stdin",
     "output_type": "stream",
     "text": [
      "You:  What was the net income of Microsoft in 2024?\n"
     ]
    },
    {
     "name": "stdout",
     "output_type": "stream",
     "text": [
      "Bot: Net Income for Microsoft in 2024 was 88.14 billion USD.\n"
     ]
    }
   ],
   "source": [
    "# Run the chatbot\n",
    "ask_chatbot()"
   ]
  },
  {
   "cell_type": "code",
   "execution_count": null,
   "id": "ea124d37-731f-48d0-a95c-022a30626422",
   "metadata": {},
   "outputs": [],
   "source": []
  }
 ],
 "metadata": {
  "kernelspec": {
   "display_name": "Python 3 (ipykernel)",
   "language": "python",
   "name": "python3"
  },
  "language_info": {
   "codemirror_mode": {
    "name": "ipython",
    "version": 3
   },
   "file_extension": ".py",
   "mimetype": "text/x-python",
   "name": "python",
   "nbconvert_exporter": "python",
   "pygments_lexer": "ipython3",
   "version": "3.12.4"
  }
 },
 "nbformat": 4,
 "nbformat_minor": 5
}
